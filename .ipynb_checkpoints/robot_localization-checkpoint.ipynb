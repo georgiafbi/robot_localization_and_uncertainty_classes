{
 "cells": [
  {
   "cell_type": "code",
   "execution_count": 43,
   "id": "97b29a2f-7a70-47cf-8675-ce970d4ebd59",
   "metadata": {},
   "outputs": [],
   "source": [
    "import math\n",
    "import pandas as pd\n",
    "import operator\n",
    "import numpy as np\n",
    "import matplotlib.pyplot"
   ]
  },
  {
   "cell_type": "code",
   "execution_count": 47,
   "id": "20540440-9fe0-4bc0-a357-7c15b66669c7",
   "metadata": {},
   "outputs": [],
   "source": [
    "#### chances of sensing a wall or door \n",
    "map=[\"door\",\"wall\"]\n",
    "door_sense={\"wall_p0\":0.4,\"door_p1\":0.8,\"wall_p2\":0.4,\"door_p3\":0.85}\n",
    "wall_sense={\"wall_p0\":0.6,\"door_p1\":0.15,\"wall_p2\":0.6,\"door_p3\":0.15}\n",
    "grid_prob={\"first_grid\":0.6,\"same_grid\":0.2,\"second_grid\":0.2,\"yellow_grid\":0.0}\n",
    "init_bel_x={\"p0\":0.25,\"p1\":0.25,\"p2\":0.25,\"p3\":0.25}\n",
    "step=1"
   ]
  },
  {
   "cell_type": "code",
   "execution_count": 35,
   "id": "ca0b2677-e875-4372-972d-eaa36aa63527",
   "metadata": {},
   "outputs": [],
   "source": [
    "class RobotBase:\n",
    "    def \n",
    "        \n",
    "            \n",
    "            \n",
    "            \n",
    "        "
   ]
  },
  {
   "cell_type": "code",
   "execution_count": 54,
   "id": "6ef09b3c-8bae-473c-94c8-12ab71a77664",
   "metadata": {},
   "outputs": [],
   "source": [
    "class Robot2(RobotBase):\n",
    "    def __init__(self,door_sense,wall_sense,grid_prob,init_bel_x,step):\n",
    "        self.init_bel_x=np.array([init_bel_x[x] for x in init_bel_x])\n",
    "        self.current_bel_x=0\n",
    "        #initializes robotBase attribute state_trans_prob\n",
    "        #state transition probability matrix\n",
    "        self.state_trans_prob=np.array([[grid_prob[\"same_grid\"],0,0,0],\n",
    "                                        [grid_prob[\"first_grid\"],grid_prob[\"same_grid\"],0,0],\n",
    "                                        [grid_prob[\"second_grid\"],grid_prob[\"first_grid\"],grid_prob[\"same_grid\"],0],\n",
    "                                        [0,grid_prob[\"second_grid\"],grid_prob[\"first_grid\"],grid_prob[\"same_grid\"]]])\n",
    "        \n",
    "        \n",
    "        "
   ]
  },
  {
   "cell_type": "code",
   "execution_count": null,
   "id": "109b0d90-6b46-4abe-92b4-9eee0b31cdf8",
   "metadata": {},
   "outputs": [],
   "source": []
  },
  {
   "cell_type": "code",
   "execution_count": null,
   "id": "05f5514d-5a56-4904-8eea-c235aa32ec8d",
   "metadata": {},
   "outputs": [],
   "source": []
  },
  {
   "cell_type": "code",
   "execution_count": 50,
   "id": "bcff1d7e-017c-49e9-8ee1-1c9a16095b51",
   "metadata": {},
   "outputs": [],
   "source": [
    "robot_two = Robot2(door_sense,wall_sense,grid_prob,init_bel_x,step)"
   ]
  },
  {
   "cell_type": "code",
   "execution_count": 51,
   "id": "552b16f0-3012-40aa-a856-af700caa0a30",
   "metadata": {},
   "outputs": [
    {
     "data": {
      "text/plain": [
       "array([0.25, 0.25, 0.25, 0.25])"
      ]
     },
     "execution_count": 51,
     "metadata": {},
     "output_type": "execute_result"
    }
   ],
   "source": [
    "robot_two.init_bel_x"
   ]
  },
  {
   "cell_type": "code",
   "execution_count": 53,
   "id": "650feafa-43e7-417d-acae-bf427933afb0",
   "metadata": {},
   "outputs": [
    {
     "data": {
      "text/plain": [
       "array([[0.2, 0. , 0. , 0. ],\n",
       "       [0.6, 0.2, 0. , 0. ],\n",
       "       [0.2, 0.6, 0.2, 0. ],\n",
       "       [0. , 0.2, 0.6, 0.2]])"
      ]
     },
     "execution_count": 53,
     "metadata": {},
     "output_type": "execute_result"
    }
   ],
   "source": [
    "robot_two.state_trans_prob"
   ]
  },
  {
   "cell_type": "code",
   "execution_count": null,
   "id": "eedfd11f-abac-4106-a4f9-d9a8ab06483f",
   "metadata": {},
   "outputs": [],
   "source": []
  }
 ],
 "metadata": {
  "kernelspec": {
   "display_name": "Python 3 (ipykernel)",
   "language": "python",
   "name": "python3"
  },
  "language_info": {
   "codemirror_mode": {
    "name": "ipython",
    "version": 3
   },
   "file_extension": ".py",
   "mimetype": "text/x-python",
   "name": "python",
   "nbconvert_exporter": "python",
   "pygments_lexer": "ipython3",
   "version": "3.8.11"
  }
 },
 "nbformat": 4,
 "nbformat_minor": 5
}
