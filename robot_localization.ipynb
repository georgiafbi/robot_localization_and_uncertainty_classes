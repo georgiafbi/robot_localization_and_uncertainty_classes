{
 "cells": [
  {
   "cell_type": "code",
   "execution_count": 49,
   "id": "97b29a2f-7a70-47cf-8675-ce970d4ebd59",
   "metadata": {},
   "outputs": [],
   "source": [
    "import math\n",
    "import pandas as pd\n",
    "import operator\n",
    "import numpy as np\n",
    "import matplotlib.pyplot as plt"
   ]
  },
  {
   "cell_type": "code",
   "execution_count": 50,
   "id": "20540440-9fe0-4bc0-a357-7c15b66669c7",
   "metadata": {},
   "outputs": [],
   "source": [
    "#### chances of sensing a wall or door \n",
    "# robot_map=[\"wall\",\"door\",\"wall\",\"door\"]\n",
    "door_sense={\"wall_p0\":0.4,\"door_p1\":0.85,\"wall_p2\":0.4,\"door_p3\":0.85}\n",
    "wall_sense={\"wall_p0\":0.6,\"door_p1\":0.15,\"wall_p2\":0.6,\"door_p3\":0.15}\n",
    "grid_prob={\"first_grid\":0.6,\"same_grid\":0.2,\"second_grid\":0.2,\"yellow_grid\":0.0}\n",
    "init_bel_x={\"p0\":0.25,\"p1\":0.25,\"p2\":0.25,\"p3\":0.25}\n",
    "steps=3"
   ]
  },
  {
   "cell_type": "code",
   "execution_count": 63,
   "id": "ca0b2677-e875-4372-972d-eaa36aa63527",
   "metadata": {},
   "outputs": [],
   "source": [
    "class RobotBase:\n",
    "    \n",
    "    def __init__(self,door_sense,wall_sense,grid_prob,init_bel_x,steps):\n",
    "        self.door_sense=np.matrix([door_sense[x] for x in door_sense])\n",
    "        self.wall_sense=np.matrix([wall_sense[x] for x in wall_sense])\n",
    "        self.labels=[\"p0\",\"p1\",\"p2\",\"p3\"]\n",
    "        self.eta=[]\n",
    "        self.bel_x=[np.matrix([init_bel_x[x] for x in init_bel_x]).reshape(len(init_bel_x),1)]\n",
    "        self.state_trans_prob=np.matrix([[grid_prob[\"same_grid\"],0,0,0],\n",
    "                                        [grid_prob[\"first_grid\"],grid_prob[\"same_grid\"],0,0],\n",
    "                                        [grid_prob[\"second_grid\"],grid_prob[\"first_grid\"],grid_prob[\"same_grid\"],0],\n",
    "                                        [0,grid_prob[\"second_grid\"],grid_prob[\"first_grid\"],grid_prob[\"same_grid\"]]])\n",
    "        self.bel_bar_x=self.bel_bar_calc(steps)\n",
    "        \n",
    "#         self.bel_bar_x=bel_bar_calc()\n",
    "        #initializes robotBase attribute state_trans_prob\n",
    "        #state transition probability matrix\n",
    "    \n",
    "    def bel_bar_calc(self,steps):\n",
    "        '''\n",
    "        bel_bar is calculated by multiplying a state tranisition matrix with the belief matrix\n",
    "        '''   \n",
    "        belBar=[]\n",
    "        print(\"Initial Position Probability: \")\n",
    "        print(f\"bel_x{0} = \",self.s_print(self.bel_x[0]))\n",
    "        plt.figure(figsize=(10,4)) \n",
    "        plt.subplot(1,1,1)\n",
    "        plt.title(f\"bel(x{0})\")\n",
    "        plt.bar(self.labels,[nB[0] for nB in self.bel_x[0].tolist()],color=self.plot_color(self.bel_x[0]))\n",
    "        plt.tight_layout()\n",
    "        plt.show()\n",
    "        for step in range(steps):\n",
    "            print(f\"\\n\\nState Transition Probability Matrix @ x{step+1}: \")\n",
    "            print(self.state_trans_prob)\n",
    "            bBar=self.state_trans_prob * self.bel_x[step]\n",
    "            print(\"\\nCalculations of bel_bar for all potential locations (p0~p3):\")\n",
    "            print(f\"bel_bar(x{step+1}) => \",self.s_print(bBar))\n",
    "            belBar.append(bBar)\n",
    "            new_bel=self.eta_calc(bBar,step)\n",
    "            print(f\"\\nNew updated belief of the robot's localization probability after step {step+1}:\")\n",
    "            print(f\"bel(x{step+1}) => \",self.s_print(new_bel))\n",
    "            self.bel_x.append(new_bel)\n",
    "            self.plot_bar(step=step,bBar=bBar,nbel=new_bel)\n",
    "        return belBar\n",
    "            \n",
    "    def eta_calc(self, bel_Bar,step):\n",
    "        '''\n",
    "        calculating eta based on wall or door sense\n",
    "        \n",
    "        '''\n",
    "        new_eta=0\n",
    "        odd=(step+1)%2\n",
    "        door=self.door_sense\n",
    "        wall=self.wall_sense\n",
    "        \n",
    "        if odd:\n",
    "            print(f\"\\nProbability of the robot sensing the DOOR at step = {step+1}\")\n",
    "            print(\"Door Detected:\", door)\n",
    "           \n",
    "            new_eta=(1/door*bel_Bar).tolist()[0][0]\n",
    "        else:\n",
    "            print(f\"\\nProbability of the robot sensing the WALL at step = {step+1}\")\n",
    "            print(\"Wall Detected:\", wall)\n",
    "            \n",
    "            new_eta=(1/wall*bel_Bar).tolist()[0][0]\n",
    "        print(\"\\nNormalization and η calculation:\")\n",
    "        print(f\"eta{step+1} = \",new_eta)\n",
    "        self.eta.append(new_eta)\n",
    "        return bel_Bar*new_eta\n",
    "    \n",
    "    def s_print(self,data):\n",
    "        special_string=\"\"\n",
    "        for i in range (len(data)):\n",
    "            special_string+=f\"p{i} = {data[i].tolist()[0][0]}, \"\n",
    "        return special_string\n",
    "    \n",
    "    def plot_bar(self,step,bBar,nbel):\n",
    "        j=2\n",
    "        plt.figure(figsize=(10,8))  \n",
    "        plt.subplot(j,1,1)\n",
    "        plt.title(f\"bel_bar(x{step+1})\")\n",
    "        plt.bar(self.labels,[bB[0] for bB in bBar.tolist()],color=self.plot_color(bBar))\n",
    "        plt.subplot(j,1,j)\n",
    "        plt.title(f\"bel(x{step+1})\")\n",
    "        plt.bar(self.labels,[nB[0] for nB in nbel.tolist()],color=self.plot_color(nbel))\n",
    "        plt.tight_layout()\n",
    "        plt.show()\n",
    "        \n",
    "    def plot_color(self,data):\n",
    "        #calculates color for bar graphs\n",
    "      \n",
    "        data_list=[x[0] for x in data.tolist()]\n",
    "        max_val=max(data_list)\n",
    "       \n",
    "        color=[]\n",
    "        for item in data_list:\n",
    "            if item == max_val:\n",
    "                color.append('r')\n",
    "            else:\n",
    "                color.append('b')\n",
    "        return color     \n",
    "        "
   ]
  },
  {
   "cell_type": "code",
   "execution_count": 64,
   "id": "6ef09b3c-8bae-473c-94c8-12ab71a77664",
   "metadata": {},
   "outputs": [],
   "source": [
    "class Robot2(RobotBase):\n",
    "    def __init__(self,door_sense,wall_sense,grid_prob,init_bel_x,steps):\n",
    "        super().__init__(door_sense,wall_sense,grid_prob,init_bel_x,steps)\n",
    "        \n",
    "    \n",
    "    def printProperties(self):\n",
    "        print(f\"bel_x{0}\",self.bel_x[0])\n",
    "        for i in range(1,len(self.bel_x)):\n",
    "            j=i-1\n",
    "            print(f\"bel_bar_x{i}\",self.bel_bar_x[j])\n",
    "            print(f\"eta{i}\",self.eta[j])\n",
    "            print(f\"bel_x{i}\",self.bel_x[i])\n",
    "           \n",
    "        \n",
    "        \n",
    "        \n",
    "        \n",
    "        "
   ]
  },
  {
   "cell_type": "code",
   "execution_count": 65,
   "id": "0332837e-3f02-4f0f-9035-66b38cb86078",
   "metadata": {},
   "outputs": [
    {
     "name": "stdout",
     "output_type": "stream",
     "text": [
      "Initial Position Probability: \n",
      "bel_x0 =  p0 = 0.25, p1 = 0.25, p2 = 0.25, p3 = 0.25, \n"
     ]
    },
    {
     "data": {
      "image/png": "[encoded data removed]",
      "text/plain": [
       "<Figure size 720x288 with 1 Axes>"
      ]
     },
     "metadata": {
      "needs_background": "light"
     },
     "output_type": "display_data"
    },
    {
     "name": "stdout",
     "output_type": "stream",
     "text": [
      "\n",
      "\n",
      "State Transition Probability Matrix @ x1: \n",
      "[[0.2 0.  0.  0. ]\n",
      " [0.6 0.2 0.  0. ]\n",
      " [0.2 0.6 0.2 0. ]\n",
      " [0.  0.2 0.6 0.2]]\n",
      "\n",
      "Calculations of bel_bar for all potential locations (p0~p3):\n",
      "bel_bar(x1) =>  p0 = 0.05, p1 = 0.2, p2 = 0.25, p3 = 0.25, \n",
      "\n",
      "Probability of the robot sensing the DOOR at step = 1\n",
      "Door Detected: [[0.4  0.85 0.4  0.85]]\n",
      "\n",
      "Normalization and η calculation:\n",
      "eta1 =  1.2794117647058822\n",
      "\n",
      "New updated belief of the robot's localization probability after step 1:\n",
      "bel(x1) =>  p0 = 0.06397058823529411, p1 = 0.25588235294117645, p2 = 0.31985294117647056, p3 = 0.31985294117647056, \n"
     ]
    },
    {
     "data": {
      "image/png": "[encoded data removed]",
      "text/plain": [
       "<Figure size 720x576 with 2 Axes>"
      ]
     },
     "metadata": {
      "needs_background": "light"
     },
     "output_type": "display_data"
    },
    {
     "name": "stdout",
     "output_type": "stream",
     "text": [
      "\n",
      "\n",
      "State Transition Probability Matrix @ x2: \n",
      "[[0.2 0.  0.  0. ]\n",
      " [0.6 0.2 0.  0. ]\n",
      " [0.2 0.6 0.2 0. ]\n",
      " [0.  0.2 0.6 0.2]]\n",
      "\n",
      "Calculations of bel_bar for all potential locations (p0~p3):\n",
      "bel_bar(x2) =>  p0 = 0.012794117647058824, p1 = 0.08955882352941176, p2 = 0.2302941176470588, p3 = 0.3070588235294117, \n",
      "\n",
      "Probability of the robot sensing the WALL at step = 2\n",
      "Wall Detected: [[0.6  0.15 0.6  0.15]]\n",
      "\n",
      "Normalization and η calculation:\n",
      "eta2 =  3.049264705882353\n",
      "\n",
      "New updated belief of the robot's localization probability after step 2:\n",
      "bel(x2) =>  p0 = 0.039012651384083046, p1 = 0.2730885596885813, p2 = 0.7022277249134947, p3 = 0.9363036332179929, \n"
     ]
    },
    {
     "data": {
      "image/png": "[encoded data removed]",
      "text/plain": [
       "<Figure size 720x576 with 2 Axes>"
      ]
     },
     "metadata": {
      "needs_background": "light"
     },
     "output_type": "display_data"
    },
    {
     "name": "stdout",
     "output_type": "stream",
     "text": [
      "\n",
      "\n",
      "State Transition Probability Matrix @ x3: \n",
      "[[0.2 0.  0.  0. ]\n",
      " [0.6 0.2 0.  0. ]\n",
      " [0.2 0.6 0.2 0. ]\n",
      " [0.  0.2 0.6 0.2]]\n",
      "\n",
      "Calculations of bel_bar for all potential locations (p0~p3):\n",
      "bel_bar(x3) =>  p0 = 0.00780253027681661, p1 = 0.07802530276816609, p2 = 0.3121012110726643, p3 = 0.6632150735294117, \n",
      "\n",
      "Probability of the robot sensing the DOOR at step = 3\n",
      "Door Detected: [[0.4  0.85 0.4  0.85]]\n",
      "\n",
      "Normalization and η calculation:\n",
      "eta3 =  1.6718068549002645\n",
      "\n",
      "New updated belief of the robot's localization probability after step 3:\n",
      "bel(x3) =>  p0 = 0.013044323602348867, p1 = 0.13044323602348865, p2 = 0.5217729440939545, p3 = 1.1087675061996534, \n"
     ]
    },
    {
     "data": {
      "image/png": "[encoded data removed]",
      "text/plain": [
       "<Figure size 720x576 with 2 Axes>"
      ]
     },
     "metadata": {
      "needs_background": "light"
     },
     "output_type": "display_data"
    }
   ],
   "source": [
    "robot_two=Robot2(door_sense,wall_sense,grid_prob,init_bel_x,steps)"
   ]
  }
 ],
 "metadata": {
  "kernelspec": {
   "display_name": "Python 3 (ipykernel)",
   "language": "python",
   "name": "python3"
  },
  "language_info": {
   "codemirror_mode": {
    "name": "ipython",
    "version": 3
   },
   "file_extension": ".py",
   "mimetype": "text/x-python",
   "name": "python",
   "nbconvert_exporter": "python",
   "pygments_lexer": "ipython3",
   "version": "3.8.11"
  }
 },
 "nbformat": 4,
 "nbformat_minor": 5
}
